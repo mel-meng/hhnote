{
 "cells": [
  {
   "cell_type": "markdown",
   "metadata": {},
   "source": [
    "# Friction Loss\n",
    "\n",
    "For gravity flows, friction loss is taken care of by the [shallow water equations](https://en.wikipedia.org/wiki/Shallow_water_equations#Dynamic_wave).\n",
    "\n",
    "\n",
    "\n",
    "For force mains, friction loss can be calculated using several equations,\n",
    "* Using the frictioon slope derived from the Manning's equation\n",
    "* Using the Hazen-Williams equation\n",
    "* Using the Darcy-Weisbach equation\n",
    "\n",
    "# Manning's equation\n",
    "\n",
    "When using the Manning's equation, the friction loss is calculated as the friction slope.\n",
    "\n",
    "$$ S_f = (\\frac{n}{1.486})^2\\frac{V^2}{R^\\frac{4}{3}} $$\n",
    "\n",
    "where,\n",
    "* $S_f$ is the friction slope (head loss per unit length) (ft/ft)\n",
    "* n= the Manning roughness coefficient (sec/m1/3)\n",
    "* R = the hydraulic radius of the flow cross-section (ft)\n",
    "* V = flow velocity (ft/sec).\n",
    "\n",
    "# Hazen-Williams Equation\n",
    "\n",
    "$$ S_f = \\frac{0.6V^{1.852}}{C^{1.852}R^{1.167}}  $$\n",
    "\n",
    "where,\n",
    "* $S_f$ is the friction slope (head loss per unit length) (ft/ft)\n",
    "* C= Hazen-Williams C-factor coefficient\n",
    "* R = the hydraulic radius of the flow cross-section (ft)\n",
    "* V = flow velocity (ft/sec).\n",
    "\n",
    "# Darcy-Weisbach Equation\n",
    "\n",
    "$$ S_f = \\frac{fV^2}{8gR}$$\n",
    "\n",
    "where,\n",
    "* $S_f$ is the friction slope (head loss per unit length) (ft/ft)\n",
    "* f= dimesionless friction factor\n",
    "* R = the hydraulic radius of the flow cross-section (ft)\n",
    "* V = flow velocity (ft/sec).\n",
    "\n",
    "\n",
    "The Hazen-Williams equation is widely used in the United States due to its simplicity, the C-factors are available for commonly used pipe materials and sizes. The Darcy-Weisbach equation is most theoretically correct, however, getting the right friction coefficient can be more complicated."
   ]
  },
  {
   "cell_type": "markdown",
   "metadata": {},
   "source": []
  },
  {
   "cell_type": "code",
   "execution_count": 1,
   "metadata": {},
   "outputs": [],
   "source": [
    "import sys\n",
    "ws = r'C:\\Users\\Mel.Meng\\Documents\\GitHub\\hhnote\\hydraulics\\forcemain'\n",
    "sys.path.append(ws)\n",
    "from friction import *\n",
    "from icm import *\n",
    "import os"
   ]
  },
  {
   "cell_type": "markdown",
   "metadata": {},
   "source": [
    "Example 1-5/1-4 from WWTP Hydraulics book is shown below. For HW, since it uses a special table, I had to guess the C factor."
   ]
  },
  {
   "cell_type": "code",
   "execution_count": 2,
   "metadata": {},
   "outputs": [
    {
     "name": "stdout",
     "output_type": "stream",
     "text": [
      "DW loss = 4.83 ft(should be 4.8ft)\n",
      "Manning loss = 7.90 ft(should be 8ft)\n",
      "Manning loss = 5.49 ft(should be 5.5ft)\n"
     ]
    }
   ],
   "source": [
    "f = 0.024\n",
    "d = 0.5 # ft\n",
    "q = 0.5 #cfs\n",
    "l = 1000 #ft\n",
    "V, R = full_pipe_vr(q, d)\n",
    "sf = dw_sf(f, V, R)\n",
    "hl = sf*l\n",
    "print('DW loss = {:.2f} ft(should be 4.8ft)'.format(hl))\n",
    "n = 0.013\n",
    "sf = manning_sf(n, R, V)\n",
    "hl = sf*l\n",
    "print('Manning loss = {:.2f} ft(should be 8ft)'.format(hl))\n",
    "C = 119\n",
    "sf = hw_sf(C, R, V)\n",
    "hl = sf*l\n",
    "print('Manning loss = {:.2f} ft(should be 5.5ft)'.format(hl))\n"
   ]
  },
  {
   "cell_type": "markdown",
   "metadata": {},
   "source": [
    "# Example from XPSWMM\n",
    "\n",
    "[Special Force main](https://help.innovyze.com/display/xps/Special+Conduits#SpecialConduits-PumpDischargePipes(ForceMains)) applies the manning's equation to calculate the friction loss. The firction loss and minor losses were subtracted from the pump curve head to account for the force main losses.\n",
    "\n",
    "![](images/XPSWMM.png)\n"
   ]
  },
  {
   "cell_type": "code",
   "execution_count": 3,
   "metadata": {},
   "outputs": [],
   "source": [
    "# XPSWMM\n",
    "l = 300 #ft length\n",
    "d = 1 # ft diameter\n",
    "n = 0.011\n",
    "k0 = 1.5 #entrance loss\n",
    "k1 = 1 #exit loss\n",
    "k2 = 1.2 # value loss\n",
    "k3 = 0.5 #bend loss"
   ]
  },
  {
   "cell_type": "code",
   "execution_count": 4,
   "metadata": {},
   "outputs": [],
   "source": [
    "pump_curve = [(0,100,100,), (2,95,93.901), (14,40,-13.861), (20, 2,-107.921)]\n",
    "columns = ['Flow(cfs)', 'Ori. head(ft)', 'Minor Loss(ft)', 'Friction Loss(ft)', 'Ori head - Minor(ft)', 'Ori h - Minor-Fric(ft)', 'Check']\n",
    "\n",
    "\n",
    "data = []\n",
    "for q, h, ck in pump_curve:\n",
    "    V, R = full_pipe_vr(q, d)\n",
    "    sf = manning_sf(n, R, V)\n",
    "    hl = sf*l\n",
    "    hm = (k0 + k1 + k2 + k3)*V**2/2/32.2\n",
    "    hall = hl + hm\n",
    "    data.append([q, h, hm, hl, h-hm, h - hall, ck])\n",
    "\n",
    "\n",
    "results = pd.DataFrame(data, columns=columns)"
   ]
  },
  {
   "cell_type": "code",
   "execution_count": 5,
   "metadata": {},
   "outputs": [
    {
     "data": {
      "text/html": [
       "<div>\n",
       "<style scoped>\n",
       "    .dataframe tbody tr th:only-of-type {\n",
       "        vertical-align: middle;\n",
       "    }\n",
       "\n",
       "    .dataframe tbody tr th {\n",
       "        vertical-align: top;\n",
       "    }\n",
       "\n",
       "    .dataframe thead th {\n",
       "        text-align: right;\n",
       "    }\n",
       "</style>\n",
       "<table border=\"1\" class=\"dataframe\">\n",
       "  <thead>\n",
       "    <tr style=\"text-align: right;\">\n",
       "      <th></th>\n",
       "      <th>Flow(cfs)</th>\n",
       "      <th>Ori. head(ft)</th>\n",
       "      <th>Minor Loss(ft)</th>\n",
       "      <th>Friction Loss(ft)</th>\n",
       "      <th>Ori head - Minor(ft)</th>\n",
       "      <th>Ori h - Minor-Fric(ft)</th>\n",
       "      <th>Check</th>\n",
       "    </tr>\n",
       "  </thead>\n",
       "  <tbody>\n",
       "    <tr>\n",
       "      <th>0</th>\n",
       "      <td>0</td>\n",
       "      <td>100</td>\n",
       "      <td>0.000000</td>\n",
       "      <td>0.000000</td>\n",
       "      <td>100.000000</td>\n",
       "      <td>100.000000</td>\n",
       "      <td>100.000</td>\n",
       "    </tr>\n",
       "    <tr>\n",
       "      <th>1</th>\n",
       "      <td>2</td>\n",
       "      <td>95</td>\n",
       "      <td>0.422906</td>\n",
       "      <td>0.673226</td>\n",
       "      <td>94.577094</td>\n",
       "      <td>93.903868</td>\n",
       "      <td>93.901</td>\n",
       "    </tr>\n",
       "    <tr>\n",
       "      <th>2</th>\n",
       "      <td>14</td>\n",
       "      <td>40</td>\n",
       "      <td>20.722385</td>\n",
       "      <td>32.988081</td>\n",
       "      <td>19.277615</td>\n",
       "      <td>-13.710466</td>\n",
       "      <td>-13.861</td>\n",
       "    </tr>\n",
       "    <tr>\n",
       "      <th>3</th>\n",
       "      <td>20</td>\n",
       "      <td>2</td>\n",
       "      <td>42.290581</td>\n",
       "      <td>67.322614</td>\n",
       "      <td>-40.290581</td>\n",
       "      <td>-107.613195</td>\n",
       "      <td>-107.921</td>\n",
       "    </tr>\n",
       "  </tbody>\n",
       "</table>\n",
       "</div>"
      ],
      "text/plain": [
       "   Flow(cfs)  Ori. head(ft)  Minor Loss(ft)  Friction Loss(ft)  \\\n",
       "0          0            100        0.000000           0.000000   \n",
       "1          2             95        0.422906           0.673226   \n",
       "2         14             40       20.722385          32.988081   \n",
       "3         20              2       42.290581          67.322614   \n",
       "\n",
       "   Ori head - Minor(ft)  Ori h - Minor-Fric(ft)    Check  \n",
       "0            100.000000              100.000000  100.000  \n",
       "1             94.577094               93.903868   93.901  \n",
       "2             19.277615              -13.710466  -13.861  \n",
       "3            -40.290581             -107.613195 -107.921  "
      ]
     },
     "execution_count": 5,
     "metadata": {},
     "output_type": "execute_result"
    }
   ],
   "source": [
    "results"
   ]
  },
  {
   "cell_type": "markdown",
   "metadata": {},
   "source": [
    "As shown above, when the force main is full. The results matches the hand calculation very well. However, when the force main is not full, the results are close but noticebly different. This might be due to the SWMM5 engine on calculating the hydraulic radius for a link."
   ]
  },
  {
   "cell_type": "markdown",
   "metadata": {},
   "source": [
    "# Equivalent Manning’s n in SWMM5\n",
    "\n",
    "When the force main is flowing partially full, it will calculate the equivalent manning's n to route using the gravity flow. \n",
    "\n",
    "![](images/eq%20manning%20n.png)\n",
    "\n",
    "```\n",
    "c = 120\n",
    "n = 1.067*(1/(11/100))**0.04/120 = 0.0097\n",
    "\n",
    "```\n"
   ]
  }
 ],
 "metadata": {
  "kernelspec": {
   "display_name": "Python 3.7.3 ('base')",
   "language": "python",
   "name": "python3"
  },
  "language_info": {
   "codemirror_mode": {
    "name": "ipython",
    "version": 3
   },
   "file_extension": ".py",
   "mimetype": "text/x-python",
   "name": "python",
   "nbconvert_exporter": "python",
   "pygments_lexer": "ipython3",
   "version": "3.7.3"
  },
  "orig_nbformat": 4,
  "vscode": {
   "interpreter": {
    "hash": "fb84fbc1cdfd73097ef8b66ad62827a472c58d2f06f414b8cf4fc0a87343e34e"
   }
  }
 },
 "nbformat": 4,
 "nbformat_minor": 2
}
