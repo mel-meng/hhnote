{
 "cells": [
  {
   "cell_type": "code",
   "execution_count": 1,
   "metadata": {},
   "outputs": [],
   "source": [
    "import pandas as pd\n",
    "import os"
   ]
  },
  {
   "cell_type": "markdown",
   "metadata": {},
   "source": [
    "# Timestep Log File to Excel\n",
    "\n",
    "The timestep log is very useful When debugging an InfoWorks ICM model, however, the log file usually will have thousands of lines and extracting the useful information can be a challenge.\n",
    "\n",
    "Using the code block below, the count tables showing the nodes and links with trouble in calculation are exported into an Excel spreadsheet. Each tab is a table ordered with the object with the highest number of count of iterations.\n",
    "\n",
    "For example, the tabs are named as \"line no-Table name\"\n",
    "\n",
    "- 93-Unconverged link depth\n",
    "- 98-Unconverged nodes coun\n",
    "- 1084-Link depth fail coun\n",
    "\n"
   ]
  },
  {
   "cell_type": "code",
   "execution_count": 57,
   "metadata": {},
   "outputs": [],
   "source": [
    "def token(l):\n",
    "    if ' counts:' in l:\n",
    "        return ('counts header', l.strip())\n",
    "    else:\n",
    "        return ('line', l)\n",
    "    \n",
    "\n",
    "def get_table(log_path):\n",
    "    ct = 0\n",
    "    with open(log_path) as f:\n",
    "        \n",
    "        tables = {}\n",
    "        table_name = None\n",
    "        for l in f:\n",
    "            ct += 1\n",
    "            a, b = token(l)\n",
    "            if a == 'counts header':\n",
    "                b = '{}-{}'.format(ct, b.replace(':', ''))[:25]\n",
    "                tables[b] = []\n",
    "                if table_name is None:\n",
    "                    table_name = b\n",
    "            elif a == 'line':\n",
    "                if l =='\\n':\n",
    "                    table_name = None\n",
    "                else:\n",
    "                    if table_name:\n",
    "                        tables[table_name].append(l.strip().split(' '))\n",
    "                # print(l)\n",
    "        return tables\n",
    "\n",
    "def process_tables(tables):\n",
    "    results = {}\n",
    "    for fld in tables:\n",
    "        results[fld] = pd.DataFrame(tables[fld], columns=['ID', 'count'])\n",
    "        results[fld]['count'] = pd.to_numeric(results[fld]['count'])\n",
    "    return results\n",
    "\n",
    "def save_tables(tables, excel_path):\n",
    "    with pd.ExcelWriter(excel_path) as writer:\n",
    "        for fld in tables:\n",
    "            tables[fld].sort_values(by=['count'], ascending=False).to_excel(writer, sheet_name=fld, index=False)\n",
    "\n",
    "\n",
    "def log_to_excel(log_path, excel_path):\n",
    "    tables = process_tables(get_table(log_path))\n",
    "    save_tables(tables, excel_path)"
   ]
  },
  {
   "cell_type": "code",
   "execution_count": 59,
   "metadata": {},
   "outputs": [],
   "source": [
    "# step 1 turn on timestep log in the RUN\n",
    "# step 2 run the simulation\n",
    "# step 3 export the log to a file\n",
    "# step 4 set up the log path, and the excel_path and run this cell\n",
    "log_path = './data/sim.log'\n",
    "excel_path = './data/log.xlsx'\n",
    "log_to_excel(log_path, excel_path)"
   ]
  },
  {
   "cell_type": "code",
   "execution_count": 61,
   "metadata": {},
   "outputs": [
    {
     "name": "stdout",
     "output_type": "stream",
     "text": [
      "93-Unconverged link depth\n",
      "         ID  count\n",
      "0   INLET.1      8\n",
      "1   INLET.2      1\n",
      "2  OUTLET.1     12\n",
      "98-Unconverged nodes coun\n",
      "       ID  count\n",
      "0  OUTLET     19\n",
      "1084-Link depth fail coun\n",
      "         ID  count\n",
      "0  FM_END.1     16\n",
      "1   INLET.1     71\n",
      "2   INLET.2      5\n",
      "3  OUTLET.1      4\n",
      "1090-Link flow fail count\n",
      "         ID  count\n",
      "0  FM_END.1     11\n",
      "1   INLET.1     27\n",
      "2  OUTLET.1     51\n",
      "1095-Node fail counts\n",
      "       ID  count\n",
      "0  FM_END     44\n",
      "1   INLET     11\n",
      "2  OUTLET     61\n",
      "1100-Unconverged link dep\n",
      "         ID  count\n",
      "0  FM_END.1    317\n",
      "1   INLET.1   1098\n",
      "2   INLET.2    112\n",
      "3  OUTLET.1    119\n",
      "1106-Unconverged link flo\n",
      "         ID  count\n",
      "0  FM_END.1    433\n",
      "1   INLET.1    419\n",
      "2   INLET.2      2\n",
      "3  OUTLET.1    262\n",
      "1112-Unconverged nodes co\n",
      "       ID  count\n",
      "0  FM_END    541\n",
      "1   INLET    446\n",
      "2  OUTLET    844\n"
     ]
    }
   ],
   "source": [
    "# Here is an example to read the tables into a variable\n",
    "tables = process_tables(get_table(log_path))\n",
    "for fld in tables:\n",
    "    print(fld)\n",
    "    print(tables[fld].head())"
   ]
  },
  {
   "cell_type": "code",
   "execution_count": null,
   "metadata": {},
   "outputs": [],
   "source": []
  }
 ],
 "metadata": {
  "kernelspec": {
   "display_name": "Python 3",
   "language": "python",
   "name": "python3"
  },
  "language_info": {
   "codemirror_mode": {
    "name": "ipython",
    "version": 3
   },
   "file_extension": ".py",
   "mimetype": "text/x-python",
   "name": "python",
   "nbconvert_exporter": "python",
   "pygments_lexer": "ipython3",
   "version": "3.9.15"
  }
 },
 "nbformat": 4,
 "nbformat_minor": 2
}
